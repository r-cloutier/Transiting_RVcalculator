{
 "cells": [
  {
   "cell_type": "markdown",
   "metadata": {},
   "source": [
    "# Example 1: physical stellar and planet parameters only\n",
    "\n",
    "Our goal here is to estimate the *number of RVs* $n_{RV}$ required to detect a transiting planet's mass at a given mass detection significance (e.g. $5\\sigma$) from limited knowledge of physical stellar and planet parameters only. This is often the case for newly discovered transiting planets wherein we have no a-priori knowledge of what the RV measurement uncertainty should be.\n",
    "\n",
    "In order to estimate $n_{RV}$ we require the following stellar parameters:\n",
    "* list of apparent magnitudes in the spectral bands of the spectrograph (here we use Y,J,H,K a la [SPIRou](http://spirou.irap.omp.eu/))\n",
    "* numerical spectral type (e.g. 4.5 for an M4.5 dwarf)\n",
    "* projected stellar rotation velocity, $v\\sin{i_s}$ in km/s\n",
    "* stellar mass and its $1\\sigma$ uncertainty in M$_{\\odot}$\n",
    "\n",
    "as well as the following planet parameters:\n",
    "* orbital period and its $1\\sigma$ uncertainty in days\n",
    "* planetary radius in R$_{\\oplus}$\n",
    "\n",
    "For this example we'll consider a hypothetical transiting super-Earth around a nearby M dwarf."
   ]
  },
  {
   "cell_type": "code",
   "execution_count": 2,
   "metadata": {
    "collapsed": true
   },
   "outputs": [],
   "source": [
    "# define stellar parameters\n",
    "mags = [10., 8.9, 8.3, 7.9]  # in the Y,J,H,K bands\n",
    "SpT, vsini, Ms, sigMs = 3.5, .1, .2, .02\n",
    "# define planet parameters\n",
    "P, sigP, rp = 20, 1e-5, 2"
   ]
  },
  {
   "cell_type": "markdown",
   "metadata": {},
   "source": [
    "These stellar parameters are often easily obtainable for nearby stars around which the majority of transiting planets are discovered. The transiting planet parameters are also obtained from analysis of the planet's transit light curves. Therefore the minimum information required to estimate $n_RV$ can be obtained for a large set of transiting planetary systems both existing and for those which will be discovered with *TESS*.\n",
    "\n",
    "## Converting planet radius to mass\n",
    "To estimate the planet mass detection significance we need to estimate the planet mass itself. This is done within the calculator by specifying a callable function that takes the planet radius as input and return the corresponding mass according to some mass-radius relation. The MRrelations library contains a number of sample mass-radius relations including the mean relation presented in Weiss & Marcy 2014 which we use here. "
   ]
  },
  {
   "cell_type": "code",
   "execution_count": 3,
   "metadata": {
    "collapsed": false
   },
   "outputs": [
    {
     "ename": "ImportError",
     "evalue": "No module named MRrelations",
     "output_type": "error",
     "traceback": [
      "\u001b[0;31m---------------------------------------------------------------------------\u001b[0m",
      "\u001b[0;31mImportError\u001b[0m                               Traceback (most recent call last)",
      "\u001b[0;32m<ipython-input-3-7944a903a836>\u001b[0m in \u001b[0;36m<module>\u001b[0;34m()\u001b[0m\n\u001b[0;32m----> 1\u001b[0;31m \u001b[0;32mfrom\u001b[0m \u001b[0mMRrelations\u001b[0m \u001b[0;32mimport\u001b[0m \u001b[0mWM14\u001b[0m\u001b[0;34m\u001b[0m\u001b[0m\n\u001b[0m",
      "\u001b[0;31mImportError\u001b[0m: No module named MRrelations"
     ]
    }
   ],
   "source": [
    "from MRrelations import WM14"
   ]
  },
  {
   "cell_type": "markdown",
   "metadata": {},
   "source": [
    "With the parameters defined for our example system we can calculate $n_{RV}$ simply using the calculator."
   ]
  },
  {
   "cell_type": "code",
   "execution_count": null,
   "metadata": {
    "collapsed": true
   },
   "outputs": [],
   "source": [
    "from nRVcalculator import *\n",
    "\n",
    "detsig = 5  # how many RVs to get a 5sigma mass detection\n",
    "self = RVcalculator((mags,SpT,vsini,Ms,sigMs), (P,sigP,rp), WM14, detsig)"
   ]
  }
 ],
 "metadata": {
  "anaconda-cloud": {},
  "kernelspec": {
   "display_name": "Python [Root]",
   "language": "python",
   "name": "Python [Root]"
  },
  "language_info": {
   "codemirror_mode": {
    "name": "ipython",
    "version": 2
   },
   "file_extension": ".py",
   "mimetype": "text/x-python",
   "name": "python",
   "nbconvert_exporter": "python",
   "pygments_lexer": "ipython2",
   "version": "2.7.12"
  }
 },
 "nbformat": 4,
 "nbformat_minor": 0
}
