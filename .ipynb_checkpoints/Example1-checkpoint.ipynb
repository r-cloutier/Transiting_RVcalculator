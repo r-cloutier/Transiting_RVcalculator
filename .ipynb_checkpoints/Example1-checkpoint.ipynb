{
 "cells": [
  {
   "cell_type": "markdown",
   "metadata": {},
   "source": [
    "# Example 1: physical stellar and planet parameters only\n",
    "\n",
    "Our goal here is to estimate the *number of RVs* $n_{RV}$ required to detect a transiting planet's mass at a given mass detection significance (e.g. $5\\sigma$) from limited knowledge of physical stellar and planet parameters only. This is often the case for newly discovered transiting planets wherein we have no a-priori knowledge of what the RV measurement uncertainty should be.\n",
    "\n",
    "In order to estimate $n_{RV}$ we require the following stellar parameters:\n",
    "* list of apparent magnitudes in the spectral bands of the spectrograph (here we use Y,J,H,K a la [SPIRou](http://spirou.irap.omp.eu/))\n",
    "* numerical spectral type (e.g. 4.5 for an M4.5 dwarf)\n",
    "* projected stellar rotation velocity, $v\\sin{i_s}$ in km/s\n",
    "* stellar mass and its $1\\sigma$ uncertainty in M$_{\\odot}$\n",
    "\n",
    "as well as the following planet parameters:\n",
    "* orbital period and its $1\\sigma$ uncertainty in days\n",
    "* planetary radius in R$_{\\oplus}$\n",
    "\n",
    "For this example we'll consider a hypothetical transiting super-Earth around a nearby M dwarf."
   ]
  },
  {
   "cell_type": "code",
   "execution_count": 1,
   "metadata": {
    "collapsed": true
   },
   "outputs": [],
   "source": [
    "# define stellar parameters\n",
    "mags = [10., 8.9, 8.3, 7.9]  # in the Y,J,H,K bands\n",
    "SpT, vsini, Ms, sigMs = 3.5, .1, .2, .02\n",
    "# define planet parameters\n",
    "P, sigP, rp = 20, 1e-5, 1.8"
   ]
  },
  {
   "cell_type": "markdown",
   "metadata": {},
   "source": [
    "These stellar parameters are often easily obtainable for nearby stars around which the majority of transiting planets are discovered. The transiting planet parameters are also obtained from analysis of the planet's transit light curves. Therefore the minimum information required to estimate $n_RV$ can be obtained for a large set of transiting planetary systems both existing and for those which will be discovered with *TESS*.\n",
    "\n",
    "## Converting planet radius to mass\n",
    "To estimate the planet mass detection significance we need to estimate the planet mass itself. This is done within the calculator by specifying a callable function that takes the planet radius as input and return the corresponding mass according to some mass-radius relation. The MRrelations library contains a number of sample mass-radius relations including the mean relation presented in Weiss & Marcy 2014 which we use here. "
   ]
  },
  {
   "cell_type": "code",
   "execution_count": 2,
   "metadata": {
    "collapsed": false
   },
   "outputs": [],
   "source": [
    "from MRrelations import WM14"
   ]
  },
  {
   "cell_type": "markdown",
   "metadata": {},
   "source": [
    "## Use calculator to estimate $n_{RV}$\n",
    "\n",
    "With the parameters defined for our example system and a mass-radius function chosen, we can proceed with estimating $n_{RV}$ simply using the calculator."
   ]
  },
  {
   "cell_type": "code",
   "execution_count": 10,
   "metadata": {
    "collapsed": false
   },
   "outputs": [],
   "source": [
    "from nRVcalculator import *\n",
    "\n",
    "detsig = 5  # how many RVs to get a 5sigma mass detection?\n",
    "self = RVcalculator((mags,SpT,vsini,Ms,sigMs), (P,sigP,rp), WM14, detsigs=detsig)"
   ]
  },
  {
   "cell_type": "code",
   "execution_count": 13,
   "metadata": {
    "collapsed": false
   },
   "outputs": [
    {
     "name": "stdout",
     "output_type": "stream",
     "text": [
      "################################################################################ \n",
      "## Stellar Parameters:\n",
      "## Y\t=\t10.00\n",
      "## J\t=\t8.90\n",
      "## H\t=\t8.30\n",
      "## K\t=\t7.90\n",
      "## Spectral type\t=\tM3.5\n",
      "## Stellar mass\t=\t0.200 +- 0.020 Solar masses\n",
      "## Projected rotation velocity\t=\t0.10 km/s\n",
      "##\n",
      "## Planet Parameters:\n",
      "## Orbital period\t=\t20.00000 +- 1.0e-05 days\n",
      "## Planet radius\t=\t1.80 Earth radii\n",
      "## Planet mass\t=\t4.65 Earth masses\n",
      "## RV semi-amplitude\t=\t3.24 Earth radii\n",
      "##\n",
      "## Exposure time\t=\t2.750 minutes\n",
      "## Effective RV uncertainty\t=\t 2.663 m/s\n",
      "##\n",
      "## Results:\n",
      "## 5 sigma detection significance requires 38 uniformly sampled RV measurements.\n",
      "################################################################################\n"
     ]
    }
   ],
   "source": [
    "self.report_results()"
   ]
  },
  {
   "cell_type": "code",
   "execution_count": 14,
   "metadata": {
    "collapsed": false
   },
   "outputs": [
    {
     "data": {
      "text/plain": [
       "(array([5]), array([38]))"
      ]
     },
     "execution_count": 14,
     "metadata": {},
     "output_type": "execute_result"
    }
   ],
   "source": [
    "self.detsigs, self.nRVs"
   ]
  },
  {
   "cell_type": "code",
   "execution_count": null,
   "metadata": {
    "collapsed": true
   },
   "outputs": [],
   "source": []
  }
 ],
 "metadata": {
  "anaconda-cloud": {},
  "kernelspec": {
   "display_name": "Python [Root]",
   "language": "python",
   "name": "Python [Root]"
  },
  "language_info": {
   "codemirror_mode": {
    "name": "ipython",
    "version": 2
   },
   "file_extension": ".py",
   "mimetype": "text/x-python",
   "name": "python",
   "nbconvert_exporter": "python",
   "pygments_lexer": "ipython2",
   "version": "2.7.12"
  }
 },
 "nbformat": 4,
 "nbformat_minor": 0
}
