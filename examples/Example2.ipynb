{
 "cells": [
  {
   "cell_type": "markdown",
   "metadata": {},
   "source": [
    "# Example 2: comparsion of $n_{RV}$ estimation to a real system\n",
    "\n",
    "Here we will compare the resulting estimation of $n_{RV}$ from our calculator with the actual number of HARPS radial velocity measurements of GJ 1132 that resulted in a $\\sim 2.95\\sigma$ detection of the mass of GJ 1132b ([Berta-Thompson et al. 2015](http://adsabs.harvard.edu/abs/2015Natur.527..204B)). In the discovery paper which presented the HARPS measurements and the planet mass detection, $n_{RV} = 25$.\n",
    "\n",
    "## Mass of GJ 1132b\n",
    "First let us cheat and define a mass-radius relation that returns the measured mass of GJ 1132b from Berta-Thompson et al. 2015 independently of the planet's radius."
   ]
  },
  {
   "cell_type": "code",
   "execution_count": 1,
   "metadata": {
    "collapsed": true
   },
   "outputs": [],
   "source": [
    "def MR_gj1132(rp):\n",
    "    return 1.62  # mass of GJ 1132b"
   ]
  },
  {
   "cell_type": "markdown",
   "metadata": {},
   "source": [
    "## Define properties of the system\n",
    "\n",
    "Next we'll fix the RV measurement uncertainty to the mean value from the HARPS observations (3.4 m/s). Doing so negates the need to compute $\\sigma_{RV}$ using the calculator so the values of the stellar magnitudes, spectral type, and projected rotation velocity do not need to be correctly specified. Although they are required as function input."
   ]
  },
  {
   "cell_type": "code",
   "execution_count": 15,
   "metadata": {
    "collapsed": false
   },
   "outputs": [],
   "source": [
    "mags, bands, SpT, vsini, Ms, sigMs = 0, [''], 0, 0, .181, .019\n",
    "sigmaRV = 3.4\n",
    "P, sigP, rp = 1.62893, 3.1e-5, 1.16"
   ]
  },
  {
   "cell_type": "markdown",
   "metadata": {},
   "source": [
    "## Use calculator to estimate $n_{RV}$\n",
    "\n",
    "Now we can estimate $n_{RV}$ required to obtain a $2.95\\sigma$ mass deection significance of GJ 1132b with a fixed value of the RV uncertainty."
   ]
  },
  {
   "cell_type": "code",
   "execution_count": 16,
   "metadata": {
    "collapsed": false
   },
   "outputs": [],
   "source": [
    "from nRVcalculator import *\n",
    "self = nRVcalculator((mags,SpT,vsini,Ms,sigMs), (P,sigP,rp), MR_gj1132, bands=bands, detsigs=2.95, sigmaRV=sigmaRV)"
   ]
  },
  {
   "cell_type": "code",
   "execution_count": 17,
   "metadata": {
    "collapsed": false
   },
   "outputs": [
    {
     "name": "stdout",
     "output_type": "stream",
     "text": [
      "################################################################################### \n",
      "## Stellar Parameters:\n",
      "## \t=\t0.00\n",
      "## Spectral type\t=\tM0.0\n",
      "## Stellar mass\t=\t0.181 +- 0.019 Solar masses\n",
      "## Projected rotation velocity\t=\t0.00 km/s\n",
      "##\n",
      "## Planet Parameters:\n",
      "## Orbital period\t=\t1.62893 +- 3.1e-05 days\n",
      "## Planet radius\t=\t1.16 Earth radii\n",
      "## Planet mass\t=\t1.62 Earth masses\n",
      "## RV semi-amplitude\t=\t2.79 m/s\n",
      "##\n",
      "## Effective RV uncertainty\t=\t 3.400 m/s\n",
      "##\n",
      "## Results:\n",
      "## 2.95 sigma detection significance requires 27 uniformly sampled RV measurements.\n",
      "###################################################################################\n"
     ]
    }
   ],
   "source": [
    "self.report_results()"
   ]
  },
  {
   "cell_type": "code",
   "execution_count": 18,
   "metadata": {
    "collapsed": false
   },
   "outputs": [
    {
     "data": {
      "text/plain": [
       "(array([ 2.95]), array([27]))"
      ]
     },
     "execution_count": 18,
     "metadata": {},
     "output_type": "execute_result"
    }
   ],
   "source": [
    "self.detsigs, self.nRVs"
   ]
  },
  {
   "cell_type": "markdown",
   "metadata": {},
   "source": [
    "The calculator has estimated that 27 RVs are required to obtain a $2.95\\sigma$ mass detection of GJ 1132b. This is in close agreement with the 25 measurements from the discovery paper used to obtain a mass detection at the significance."
   ]
  }
 ],
 "metadata": {
  "anaconda-cloud": {},
  "kernelspec": {
   "display_name": "Python [Root]",
   "language": "python",
   "name": "Python [Root]"
  },
  "language_info": {
   "codemirror_mode": {
    "name": "ipython",
    "version": 2
   },
   "file_extension": ".py",
   "mimetype": "text/x-python",
   "name": "python",
   "nbconvert_exporter": "python",
   "pygments_lexer": "ipython2",
   "version": "2.7.12"
  }
 },
 "nbformat": 4,
 "nbformat_minor": 0
}
